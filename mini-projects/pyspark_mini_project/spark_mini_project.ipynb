{
 "cells": [
  {
   "cell_type": "code",
   "execution_count": 1,
   "id": "45749b33",
   "metadata": {},
   "outputs": [
    {
     "name": "stderr",
     "output_type": "stream",
     "text": [
      "Using Spark's default log4j profile: org/apache/spark/log4j-defaults.properties\n",
      "Setting default log level to \"WARN\".\n",
      "To adjust logging level use sc.setLogLevel(newLevel). For SparkR, use setLogLevel(newLevel).\n",
      "22/01/05 14:01:31 WARN NativeCodeLoader: Unable to load native-hadoop library for your platform... using builtin-java classes where applicable\n",
      "22/01/05 14:01:32 WARN Utils: Service 'SparkUI' could not bind on port 4040. Attempting port 4041.\n",
      "/Users/anthonyolund/.local/share/virtualenvs/spark_test-BGiTYayQ/lib/python3.9/site-packages/pyspark/sql/context.py:77: FutureWarning: Deprecated in 3.0.0. Use SparkSession.builder.getOrCreate() instead.\n",
      "  warnings.warn(\n"
     ]
    }
   ],
   "source": [
    "from pyspark import SparkContext, SparkConf\n",
    "from pyspark.sql import SQLContext\n",
    "from pyspark import sql\n",
    "from operator import itemgetter\n",
    "sc = SparkContext(\"local\", \"My Application\")\n",
    "sqlContext = sql.SQLContext(sc)"
   ]
  },
  {
   "cell_type": "code",
   "execution_count": 25,
   "id": "a2df457a",
   "metadata": {},
   "outputs": [
    {
     "data": {
      "text/plain": [
       "['1,I,VXIO456XLBB630221,Nissan,Altima,2003,2002-05-08,Initial sales from TechMotors']"
      ]
     },
     "execution_count": 25,
     "metadata": {},
     "output_type": "execute_result"
    }
   ],
   "source": [
    "raw_rdd = sc.textFile(\"data.csv\")\n",
    "raw_rdd.take(1)"
   ]
  },
  {
   "cell_type": "code",
   "execution_count": 24,
   "id": "53a6f3b2",
   "metadata": {},
   "outputs": [
    {
     "data": {
      "text/plain": [
       "[('VXIO456XLBB630221', ('I', 'Nissan', '2003'))]"
      ]
     },
     "execution_count": 24,
     "metadata": {},
     "output_type": "execute_result"
    }
   ],
   "source": [
    "def extract_vin_key_value(x):\n",
    "    items = itemgetter(2, 1, 3, 5)(x.split(','))\n",
    "    return (items[0],items[1:])\n",
    "\n",
    "vin_kv = raw_rdd.map(lambda x: extract_vin_key_value(x))\n",
    "vin_kv.take(1)"
   ]
  },
  {
   "cell_type": "code",
   "execution_count": 146,
   "id": "6d577b38",
   "metadata": {},
   "outputs": [
    {
     "data": {
      "text/plain": [
       "[('VXIO456XLBB630221', ('Nissan', '2003'))]"
      ]
     },
     "execution_count": 146,
     "metadata": {},
     "output_type": "execute_result"
    }
   ],
   "source": [
    "def extract_make(x):\n",
    "    items = itemgetter(2, 3, 5)(x.split(','))\n",
    "    return (items[0],items[1:])\n",
    "\n",
    "make = raw_rdd.map(lambda x: extract_make(x))\n",
    "make.take(1)"
   ]
  },
  {
   "cell_type": "code",
   "execution_count": 147,
   "id": "b2d4cea9",
   "metadata": {
    "scrolled": true
   },
   "outputs": [
    {
     "name": "stderr",
     "output_type": "stream",
     "text": [
      "/users/anthonyolund/documents/dev/apache-spark/spark-3.2.0-bin-hadoop3.2/python/lib/pyspark.zip/pyspark/shuffle.py:60: UserWarning: Please install psutil to have better support with spilling\n"
     ]
    },
    {
     "data": {
      "text/plain": [
       "[('VXIO456XLBB630221', ('Nissan', '2003')),\n",
       " ('INU45KIOOPA343980', ('Mercedes', '2015')),\n",
       " ('VOME254OOXW344325', ('Mercedes', '2015')),\n",
       " ('EXOA00341AB123456', ('Mercedes', '2016')),\n",
       " ('UXIA769ABCC447906', ('Toyota', '2017'))]"
      ]
     },
     "execution_count": 147,
     "metadata": {},
     "output_type": "execute_result"
    }
   ],
   "source": [
    "max_make = make.reduceByKey(max)\n",
    "max_make.take(6)"
   ]
  },
  {
   "cell_type": "code",
   "execution_count": 149,
   "id": "2e01d19f",
   "metadata": {},
   "outputs": [
    {
     "data": {
      "text/plain": [
       "[('VOME254OOXW344325', (('I', 'Mercedes', '2015'), ('Mercedes', '2015'))),\n",
       " ('VOME254OOXW344325', (('R', '', ''), ('Mercedes', '2015'))),\n",
       " ('VOME254OOXW344325', (('A', '', ''), ('Mercedes', '2015'))),\n",
       " ('VOME254OOXW344325', (('R', '', ''), ('Mercedes', '2015'))),\n",
       " ('VOME254OOXW344325', (('R', '', ''), ('Mercedes', '2015'))),\n",
       " ('EXOA00341AB123456', (('I', 'Mercedes', '2016'), ('Mercedes', '2016'))),\n",
       " ('EXOA00341AB123456', (('R', '', ''), ('Mercedes', '2016'))),\n",
       " ('EXOA00341AB123456', (('A', '', ''), ('Mercedes', '2016'))),\n",
       " ('UXIA769ABCC447906', (('I', 'Toyota', '2017'), ('Toyota', '2017'))),\n",
       " ('UXIA769ABCC447906', (('R', '', ''), ('Toyota', '2017')))]"
      ]
     },
     "execution_count": 149,
     "metadata": {},
     "output_type": "execute_result"
    }
   ],
   "source": [
    "rdd_join = vin_kv.join(max_make)\n",
    "rdd_join.take(10)"
   ]
  },
  {
   "cell_type": "code",
   "execution_count": 159,
   "id": "af97b5c1",
   "metadata": {
    "scrolled": true
   },
   "outputs": [
    {
     "data": {
      "text/plain": [
       "[('I', 'Mercedes', '2015'),\n",
       " ('R', 'Mercedes', '2015'),\n",
       " ('A', 'Mercedes', '2015'),\n",
       " ('R', 'Mercedes', '2015'),\n",
       " ('R', 'Mercedes', '2015'),\n",
       " ('I', 'Mercedes', '2016'),\n",
       " ('R', 'Mercedes', '2016'),\n",
       " ('A', 'Mercedes', '2016'),\n",
       " ('I', 'Toyota', '2017'),\n",
       " ('R', 'Toyota', '2017')]"
      ]
     },
     "execution_count": 159,
     "metadata": {},
     "output_type": "execute_result"
    }
   ],
   "source": [
    "enhance_make = rdd_join.map(lambda x: (x[1][0][0], x[1][1][0], x[1][1][1]) )\n",
    "enhance_make.take(10)"
   ]
  },
  {
   "cell_type": "code",
   "execution_count": 163,
   "id": "38bf8a91",
   "metadata": {},
   "outputs": [
    {
     "data": {
      "text/plain": [
       "[(('Mercedes', '2015'), 1),\n",
       " (('Mercedes', '2016'), 1),\n",
       " (('Nissan', '2003'), 1),\n",
       " (('Mercedes', '2015'), 1)]"
      ]
     },
     "execution_count": 163,
     "metadata": {},
     "output_type": "execute_result"
    }
   ],
   "source": [
    "#The goal of this step is to count the number of records for each make and year combination,\n",
    "#given the result we derived previously. The output key should be the combination of vehicle\n",
    "#make and year. The value should be the count of 1.\n",
    "def extract_make_key_value(x):\n",
    "    return (x[1:],1)\n",
    "\n",
    "make_kv = enhance_make.filter(lambda x: x[0] == 'A').map(lambda x: extract_make_key_value(x))\n",
    "make_kv.take(10)"
   ]
  },
  {
   "cell_type": "code",
   "execution_count": 164,
   "id": "b9c8564e",
   "metadata": {},
   "outputs": [
    {
     "name": "stderr",
     "output_type": "stream",
     "text": [
      "/users/anthonyolund/documents/dev/apache-spark/spark-3.2.0-bin-hadoop3.2/python/lib/pyspark.zip/pyspark/shuffle.py:60: UserWarning: Please install psutil to have better support with spilling\n"
     ]
    },
    {
     "data": {
      "text/plain": [
       "[(('Mercedes', '2015'), 2), (('Mercedes', '2016'), 1), (('Nissan', '2003'), 1)]"
      ]
     },
     "execution_count": 164,
     "metadata": {},
     "output_type": "execute_result"
    }
   ],
   "source": [
    "final_rdd = make_kv.reduceByKey(lambda a,b: a+b)\n",
    "final_rdd.take(5)"
   ]
  },
  {
   "cell_type": "code",
   "execution_count": 165,
   "id": "1a3119bb",
   "metadata": {},
   "outputs": [
    {
     "name": "stdout",
     "output_type": "stream",
     "text": [
      "(('Mercedes', '2015'), 2)\n",
      "(('Mercedes', '2016'), 1)\n",
      "(('Nissan', '2003'), 1)\n"
     ]
    },
    {
     "name": "stderr",
     "output_type": "stream",
     "text": [
      "/users/anthonyolund/documents/dev/apache-spark/spark-3.2.0-bin-hadoop3.2/python/lib/pyspark.zip/pyspark/shuffle.py:60: UserWarning: Please install psutil to have better support with spilling\n"
     ]
    }
   ],
   "source": [
    "for element in final_rdd.collect():\n",
    "    print(element)"
   ]
  }
 ],
 "metadata": {
  "kernelspec": {
   "display_name": "Python 3 (ipykernel)",
   "language": "python",
   "name": "python3"
  },
  "language_info": {
   "codemirror_mode": {
    "name": "ipython",
    "version": 3
   },
   "file_extension": ".py",
   "mimetype": "text/x-python",
   "name": "python",
   "nbconvert_exporter": "python",
   "pygments_lexer": "ipython3",
   "version": "3.9.9"
  }
 },
 "nbformat": 4,
 "nbformat_minor": 5
}
