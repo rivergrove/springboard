{
 "cells": [
  {
   "cell_type": "code",
   "execution_count": 32,
   "id": "a6f98c75",
   "metadata": {},
   "outputs": [
    {
     "name": "stdout",
     "output_type": "stream",
     "text": [
      "+-----------+--------------------+--------------------+-------------------+-----+\n",
      "|question_id|       creation_date|               title|              month|count|\n",
      "+-----------+--------------------+--------------------+-------------------+-----+\n",
      "|     155983|2014-12-31 15:06:...|Forming massive $...|               null|    1|\n",
      "|     155989|2014-12-31 17:59:...|Frost bubble form...|2014-12-01 00:00:00|    1|\n",
      "|     155989|2014-12-31 17:59:...|Frost bubble form...|2018-02-01 00:00:00|    1|\n",
      "|     155990|2014-12-31 18:51:...|The abstract spac...|2014-12-01 00:00:00|    1|\n",
      "|     155990|2014-12-31 18:51:...|The abstract spac...|2015-01-01 00:00:00|    1|\n",
      "|     155991|2014-12-31 18:53:...|Photons and heat ...|               null|    1|\n",
      "|     155992|2014-12-31 19:44:...|centrifugal force...|2014-12-01 00:00:00|    1|\n",
      "|     155993|2014-12-31 19:56:...|How can I estimat...|2015-01-01 00:00:00|    1|\n",
      "|     155995|2014-12-31 21:16:...|Why should a solu...|2015-01-01 00:00:00|    3|\n",
      "|     155996|2014-12-31 22:06:...|Why do we assume ...|2015-01-01 00:00:00|    2|\n",
      "|     155996|2014-12-31 22:06:...|Why do we assume ...|2016-02-01 00:00:00|    1|\n",
      "|     155996|2014-12-31 22:06:...|Why do we assume ...|2018-11-01 00:00:00|    1|\n",
      "|     155997|2014-12-31 22:26:...|Why do square sha...|2015-01-01 00:00:00|    3|\n",
      "|     155999|2014-12-31 23:01:...|Diagonalizability...|2015-01-01 00:00:00|    1|\n",
      "|     156008|2015-01-01 00:48:...|Capturing a light...|2015-01-01 00:00:00|    2|\n",
      "|     156008|2015-01-01 00:48:...|Capturing a light...|2015-11-01 00:00:00|    1|\n",
      "|     156015|2015-01-01 02:26:...|Ostrogradski’s th...|               null|    1|\n",
      "|     156016|2015-01-01 02:31:...|The interference ...|2015-01-01 00:00:00|    1|\n",
      "|     156020|2015-01-01 03:19:...|What is going on ...|2015-01-01 00:00:00|    1|\n",
      "|     156021|2015-01-01 03:21:...|How to calculate ...|2016-02-01 00:00:00|    1|\n",
      "+-----------+--------------------+--------------------+-------------------+-----+\n",
      "only showing top 20 rows\n",
      "\n",
      "CPU times: user 3.21 ms, sys: 3.03 ms, total: 6.24 ms\n",
      "Wall time: 1 s\n"
     ]
    }
   ],
   "source": [
    "%%time\n",
    "import pyspark\n",
    "from pyspark.sql import SparkSession\n",
    "from pyspark.sql.functions import col, count, month\n",
    "import os\n",
    "\n",
    "spark = SparkSession.builder.appName('Optimize I').getOrCreate()\n",
    "spark.conf.set(\"spark.sql.adaptive.enabled\",\"True\")\n",
    "\n",
    "base_path = os.getcwd()\n",
    "project_path = ('/').join(base_path.split('/')[0:-3]) \n",
    "answers_input_path = os.path.join(project_path, 'spark_test/spark_mini_project/Optimization/data/answers')\n",
    "\n",
    "questions_input_path = os.path.join(project_path, 'spark_test/spark_mini_project/Optimization/data/questions')\n",
    "\n",
    "answersDF = spark.read.option('path', answers_input_path).load()\n",
    "questionsDF = spark.read.option('path', questions_input_path).load()\n",
    "\n",
    "questionsDF.createOrReplaceTempView(\"questions\")\n",
    "answersDF.createOrReplaceTempView(\"answers\")\n",
    "\n",
    "spark.sql(\n",
    "'''\n",
    "select \n",
    "    q.question_id\n",
    "    , q.creation_date\n",
    "    , q.title\n",
    "    , date_trunc('month', a.creation_date) as month\n",
    "    , count(*) as count\n",
    "from\n",
    "    questions as q\n",
    "    left join answers as a\n",
    "    on q.question_id = a.question_id\n",
    "group by 1,2,3,4\n",
    "order by 1,4\n",
    "'''\n",
    ").show()"
   ]
  }
 ],
 "metadata": {
  "kernelspec": {
   "display_name": "Python 3 (ipykernel)",
   "language": "python",
   "name": "python3"
  },
  "language_info": {
   "codemirror_mode": {
    "name": "ipython",
    "version": 3
   },
   "file_extension": ".py",
   "mimetype": "text/x-python",
   "name": "python",
   "nbconvert_exporter": "python",
   "pygments_lexer": "ipython3",
   "version": "3.9.9"
  }
 },
 "nbformat": 4,
 "nbformat_minor": 5
}
